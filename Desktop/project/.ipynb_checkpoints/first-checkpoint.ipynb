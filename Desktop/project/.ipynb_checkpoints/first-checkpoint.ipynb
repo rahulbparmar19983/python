{
 "cells": [
  {
   "cell_type": "code",
   "execution_count": 42,
   "metadata": {},
   "outputs": [
    {
     "name": "stdout",
     "output_type": "stream",
     "text": [
      "r 20\n",
      "s 17\n",
      "k 13\n",
      "range(1, 10)\n"
     ]
    }
   ],
   "source": [
    "a = [45,67,34,78,4]\n",
    "tup = (45,67,34,78,3,45)\n",
    "s = {45,34,8,45,89,56}\n",
    "dic = {'r':20,'s':17,'k':13}\n",
    "for i in dic:\n",
    "    print(i,dic[i])\n",
    "dic.items()\n",
    "#r = input(\"enter values : \")"
   ]
  }
 ],
 "metadata": {
  "kernelspec": {
   "display_name": "Python 3",
   "language": "python",
   "name": "python3"
  },
  "language_info": {
   "codemirror_mode": {
    "name": "ipython",
    "version": 3
   },
   "file_extension": ".py",
   "mimetype": "text/x-python",
   "name": "python",
   "nbconvert_exporter": "python",
   "pygments_lexer": "ipython3",
   "version": "3.7.3"
  }
 },
 "nbformat": 4,
 "nbformat_minor": 2
}
